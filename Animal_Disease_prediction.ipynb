{
 "cells": [
  {
   "cell_type": "markdown",
   "metadata": {},
   "source": [
    "Read All Libraries"
   ]
  },
  {
   "cell_type": "code",
   "execution_count": 1,
   "metadata": {},
   "outputs": [],
   "source": [
    "import pandas as pd\n",
    "from sklearn.preprocessing import OneHotEncoder\n",
    "from sklearn.compose import make_column_transformer\n",
    "from sklearn.model_selection import train_test_split\n",
    "from sklearn.preprocessing import LabelEncoder\n",
    "from sklearn.ensemble import RandomForestClassifier\n",
    "from sklearn.pipeline import make_pipeline"
   ]
  },
  {
   "cell_type": "markdown",
   "metadata": {},
   "source": [
    "Read Data"
   ]
  },
  {
   "cell_type": "code",
   "execution_count": 2,
   "metadata": {},
   "outputs": [],
   "source": [
    "data=pd.read_csv(r'C:\\Users\\hp\\Desktop\\Animal_Disease_dataset.csv')"
   ]
  },
  {
   "cell_type": "code",
   "execution_count": 3,
   "metadata": {},
   "outputs": [
    {
     "data": {
      "text/html": [
       "<div>\n",
       "<style scoped>\n",
       "    .dataframe tbody tr th:only-of-type {\n",
       "        vertical-align: middle;\n",
       "    }\n",
       "\n",
       "    .dataframe tbody tr th {\n",
       "        vertical-align: top;\n",
       "    }\n",
       "\n",
       "    .dataframe thead th {\n",
       "        text-align: right;\n",
       "    }\n",
       "</style>\n",
       "<table border=\"1\" class=\"dataframe\">\n",
       "  <thead>\n",
       "    <tr style=\"text-align: right;\">\n",
       "      <th></th>\n",
       "      <th>AnimalName</th>\n",
       "      <th>symptoms1</th>\n",
       "      <th>symptoms2</th>\n",
       "      <th>symptoms3</th>\n",
       "      <th>symptoms4</th>\n",
       "      <th>symptoms5</th>\n",
       "      <th>Dangerous</th>\n",
       "      <th>Disease</th>\n",
       "    </tr>\n",
       "  </thead>\n",
       "  <tbody>\n",
       "    <tr>\n",
       "      <th>0</th>\n",
       "      <td>Dog</td>\n",
       "      <td>Fever</td>\n",
       "      <td>Diarrhea</td>\n",
       "      <td>Vomiting</td>\n",
       "      <td>Weight loss</td>\n",
       "      <td>Dehydration</td>\n",
       "      <td>Yes</td>\n",
       "      <td>Canine Parvovirus</td>\n",
       "    </tr>\n",
       "    <tr>\n",
       "      <th>1</th>\n",
       "      <td>Dog</td>\n",
       "      <td>Fever</td>\n",
       "      <td>Diarrhea</td>\n",
       "      <td>Coughing</td>\n",
       "      <td>Tiredness</td>\n",
       "      <td>Pains</td>\n",
       "      <td>Yes</td>\n",
       "      <td>Canine Coronavirus</td>\n",
       "    </tr>\n",
       "    <tr>\n",
       "      <th>2</th>\n",
       "      <td>Dog</td>\n",
       "      <td>Fever</td>\n",
       "      <td>Diarrhea</td>\n",
       "      <td>Coughing</td>\n",
       "      <td>Vomiting</td>\n",
       "      <td>Anorexia</td>\n",
       "      <td>Yes</td>\n",
       "      <td>Canine Distemper</td>\n",
       "    </tr>\n",
       "    <tr>\n",
       "      <th>3</th>\n",
       "      <td>Dog</td>\n",
       "      <td>Fever</td>\n",
       "      <td>Difficulty breathing</td>\n",
       "      <td>Coughing</td>\n",
       "      <td>Lethargy</td>\n",
       "      <td>Sneezing</td>\n",
       "      <td>Yes</td>\n",
       "      <td>Canine Influenza</td>\n",
       "    </tr>\n",
       "    <tr>\n",
       "      <th>4</th>\n",
       "      <td>Dog</td>\n",
       "      <td>Fever</td>\n",
       "      <td>Diarrhea</td>\n",
       "      <td>Coughing</td>\n",
       "      <td>Lethargy</td>\n",
       "      <td>Blue Eye</td>\n",
       "      <td>Yes</td>\n",
       "      <td>Infectious canine hepatitis</td>\n",
       "    </tr>\n",
       "    <tr>\n",
       "      <th>...</th>\n",
       "      <td>...</td>\n",
       "      <td>...</td>\n",
       "      <td>...</td>\n",
       "      <td>...</td>\n",
       "      <td>...</td>\n",
       "      <td>...</td>\n",
       "      <td>...</td>\n",
       "      <td>...</td>\n",
       "    </tr>\n",
       "    <tr>\n",
       "      <th>866</th>\n",
       "      <td>Buffaloes</td>\n",
       "      <td>Fever</td>\n",
       "      <td>Difficulty breathing</td>\n",
       "      <td>Poor Appetite</td>\n",
       "      <td>Eye and Skin change</td>\n",
       "      <td>Unable to exercise</td>\n",
       "      <td>Yes</td>\n",
       "      <td>Histoplasmosis</td>\n",
       "    </tr>\n",
       "    <tr>\n",
       "      <th>867</th>\n",
       "      <td>Buffaloes</td>\n",
       "      <td>Fever</td>\n",
       "      <td>Loss of  appetite</td>\n",
       "      <td>Lession on the skin</td>\n",
       "      <td>Lethargy</td>\n",
       "      <td>Joint Pain</td>\n",
       "      <td>Yes</td>\n",
       "      <td>Coccidioidomycosis</td>\n",
       "    </tr>\n",
       "    <tr>\n",
       "      <th>868</th>\n",
       "      <td>Buffaloes</td>\n",
       "      <td>Lesions in the nasal cavity</td>\n",
       "      <td>Lesions on nose</td>\n",
       "      <td>Vomiting</td>\n",
       "      <td>Noisy Breathing</td>\n",
       "      <td>Lesions on nose</td>\n",
       "      <td>Yes</td>\n",
       "      <td>Cryptococcosis</td>\n",
       "    </tr>\n",
       "    <tr>\n",
       "      <th>869</th>\n",
       "      <td>Buffaloes</td>\n",
       "      <td>Hair loss</td>\n",
       "      <td>Dandruff</td>\n",
       "      <td>Vomiting</td>\n",
       "      <td>Crusting of the skin</td>\n",
       "      <td>Ulcerated skin</td>\n",
       "      <td>Yes</td>\n",
       "      <td>Ring worm</td>\n",
       "    </tr>\n",
       "    <tr>\n",
       "      <th>870</th>\n",
       "      <td>Buffaloes</td>\n",
       "      <td>Greenish-yellow nasal discharge</td>\n",
       "      <td>Lack of pigmentation</td>\n",
       "      <td>Vomiting</td>\n",
       "      <td>Lethargy</td>\n",
       "      <td>Pain on face</td>\n",
       "      <td>Yes</td>\n",
       "      <td>Aspergillosis</td>\n",
       "    </tr>\n",
       "  </tbody>\n",
       "</table>\n",
       "<p>871 rows × 8 columns</p>\n",
       "</div>"
      ],
      "text/plain": [
       "    AnimalName                        symptoms1             symptoms2  \\\n",
       "0          Dog                            Fever              Diarrhea   \n",
       "1          Dog                            Fever              Diarrhea   \n",
       "2          Dog                            Fever              Diarrhea   \n",
       "3          Dog                            Fever  Difficulty breathing   \n",
       "4          Dog                            Fever              Diarrhea   \n",
       "..         ...                              ...                   ...   \n",
       "866  Buffaloes                            Fever  Difficulty breathing   \n",
       "867  Buffaloes                            Fever     Loss of  appetite   \n",
       "868  Buffaloes      Lesions in the nasal cavity       Lesions on nose   \n",
       "869  Buffaloes                        Hair loss              Dandruff   \n",
       "870  Buffaloes  Greenish-yellow nasal discharge  Lack of pigmentation   \n",
       "\n",
       "               symptoms3             symptoms4           symptoms5 Dangerous  \\\n",
       "0               Vomiting           Weight loss         Dehydration       Yes   \n",
       "1               Coughing             Tiredness               Pains       Yes   \n",
       "2               Coughing              Vomiting            Anorexia       Yes   \n",
       "3               Coughing              Lethargy            Sneezing       Yes   \n",
       "4               Coughing              Lethargy            Blue Eye       Yes   \n",
       "..                   ...                   ...                 ...       ...   \n",
       "866        Poor Appetite   Eye and Skin change  Unable to exercise       Yes   \n",
       "867  Lession on the skin              Lethargy          Joint Pain       Yes   \n",
       "868             Vomiting       Noisy Breathing     Lesions on nose       Yes   \n",
       "869             Vomiting  Crusting of the skin      Ulcerated skin       Yes   \n",
       "870             Vomiting              Lethargy        Pain on face       Yes   \n",
       "\n",
       "                         Disease  \n",
       "0              Canine Parvovirus  \n",
       "1             Canine Coronavirus  \n",
       "2              Canine Distemper   \n",
       "3               Canine Influenza  \n",
       "4    Infectious canine hepatitis  \n",
       "..                           ...  \n",
       "866               Histoplasmosis  \n",
       "867           Coccidioidomycosis  \n",
       "868               Cryptococcosis  \n",
       "869                    Ring worm  \n",
       "870                Aspergillosis  \n",
       "\n",
       "[871 rows x 8 columns]"
      ]
     },
     "execution_count": 3,
     "metadata": {},
     "output_type": "execute_result"
    }
   ],
   "source": [
    "data"
   ]
  },
  {
   "cell_type": "markdown",
   "metadata": {},
   "source": [
    "Check Shape of data"
   ]
  },
  {
   "cell_type": "code",
   "execution_count": 5,
   "metadata": {},
   "outputs": [
    {
     "data": {
      "text/plain": [
       "(871, 8)"
      ]
     },
     "execution_count": 5,
     "metadata": {},
     "output_type": "execute_result"
    }
   ],
   "source": [
    "data.shape"
   ]
  },
  {
   "cell_type": "code",
   "execution_count": 6,
   "metadata": {},
   "outputs": [
    {
     "data": {
      "text/plain": [
       "871"
      ]
     },
     "execution_count": 6,
     "metadata": {},
     "output_type": "execute_result"
    }
   ],
   "source": [
    "len(data)"
   ]
  },
  {
   "cell_type": "markdown",
   "metadata": {},
   "source": [
    "Check there is null value"
   ]
  },
  {
   "cell_type": "code",
   "execution_count": 7,
   "metadata": {},
   "outputs": [
    {
     "data": {
      "text/plain": [
       "<bound method DataFrame.any of      AnimalName  symptoms1  symptoms2  symptoms3  symptoms4  symptoms5  \\\n",
       "0         False      False      False      False      False      False   \n",
       "1         False      False      False      False      False      False   \n",
       "2         False      False      False      False      False      False   \n",
       "3         False      False      False      False      False      False   \n",
       "4         False      False      False      False      False      False   \n",
       "..          ...        ...        ...        ...        ...        ...   \n",
       "866       False      False      False      False      False      False   \n",
       "867       False      False      False      False      False      False   \n",
       "868       False      False      False      False      False      False   \n",
       "869       False      False      False      False      False      False   \n",
       "870       False      False      False      False      False      False   \n",
       "\n",
       "     Dangerous  Disease  \n",
       "0        False    False  \n",
       "1        False    False  \n",
       "2        False    False  \n",
       "3        False    False  \n",
       "4        False    False  \n",
       "..         ...      ...  \n",
       "866      False    False  \n",
       "867      False    False  \n",
       "868      False    False  \n",
       "869      False    False  \n",
       "870      False    False  \n",
       "\n",
       "[871 rows x 8 columns]>"
      ]
     },
     "execution_count": 7,
     "metadata": {},
     "output_type": "execute_result"
    }
   ],
   "source": [
    "data.isnull().any"
   ]
  },
  {
   "cell_type": "markdown",
   "metadata": {},
   "source": [
    "Split x and y values"
   ]
  },
  {
   "cell_type": "code",
   "execution_count": 8,
   "metadata": {},
   "outputs": [],
   "source": [
    "x=data.drop(['Dangerous','Disease'],axis=1)"
   ]
  },
  {
   "cell_type": "code",
   "execution_count": 9,
   "metadata": {},
   "outputs": [],
   "source": [
    "y=data.Disease"
   ]
  },
  {
   "cell_type": "code",
   "execution_count": 10,
   "metadata": {},
   "outputs": [
    {
     "data": {
      "text/plain": [
       "(871, 6)"
      ]
     },
     "execution_count": 10,
     "metadata": {},
     "output_type": "execute_result"
    }
   ],
   "source": [
    "x.shape"
   ]
  },
  {
   "cell_type": "code",
   "execution_count": 11,
   "metadata": {},
   "outputs": [
    {
     "data": {
      "text/plain": [
       "(871,)"
      ]
     },
     "execution_count": 11,
     "metadata": {},
     "output_type": "execute_result"
    }
   ],
   "source": [
    "y.shape"
   ]
  },
  {
   "cell_type": "markdown",
   "metadata": {},
   "source": [
    "Split x,y into train test"
   ]
  },
  {
   "cell_type": "code",
   "execution_count": 12,
   "metadata": {},
   "outputs": [],
   "source": [
    "x_train,x_test,y_train,y_test=train_test_split(x,y,test_size=.1,random_state=1)"
   ]
  },
  {
   "cell_type": "code",
   "execution_count": 13,
   "metadata": {},
   "outputs": [
    {
     "data": {
      "text/plain": [
       "(783, 783)"
      ]
     },
     "execution_count": 13,
     "metadata": {},
     "output_type": "execute_result"
    }
   ],
   "source": [
    "len(xtrain),len(ytrain)"
   ]
  },
  {
   "cell_type": "code",
   "execution_count": 14,
   "metadata": {},
   "outputs": [
    {
     "data": {
      "text/plain": [
       "(88, 88)"
      ]
     },
     "execution_count": 14,
     "metadata": {},
     "output_type": "execute_result"
    }
   ],
   "source": [
    "len(xtest),len(ytest)"
   ]
  },
  {
   "cell_type": "markdown",
   "metadata": {},
   "source": [
    "Applying All columns Onehotencoder"
   ]
  },
  {
   "cell_type": "code",
   "execution_count": 16,
   "metadata": {},
   "outputs": [],
   "source": []
  },
  {
   "cell_type": "code",
   "execution_count": 17,
   "metadata": {},
   "outputs": [
    {
     "data": {
      "text/plain": [
       "OneHotEncoder()"
      ]
     },
     "execution_count": 17,
     "metadata": {},
     "output_type": "execute_result"
    }
   ],
   "source": [
    "onehot=OneHotEncoder()\n",
    "onehot.fit(x[['AnimalName','symptoms1','symptoms2','symptoms3','symptoms4','symptoms5']])"
   ]
  },
  {
   "cell_type": "code",
   "execution_count": 18,
   "metadata": {},
   "outputs": [],
   "source": [
    "a=make_column_transformer((OneHotEncoder(categories=onehot.categories_,handle_unknown = 'ignore'),['AnimalName','symptoms1','symptoms2','symptoms3','symptoms4','symptoms5']),remainder='passthrough')"
   ]
  },
  {
   "cell_type": "markdown",
   "metadata": {},
   "source": [
    "Model Creation"
   ]
  },
  {
   "cell_type": "code",
   "execution_count": 19,
   "metadata": {},
   "outputs": [],
   "source": [
    "model=RandomForestClassifier()"
   ]
  },
  {
   "cell_type": "markdown",
   "metadata": {},
   "source": [
    "Pipe Using"
   ]
  },
  {
   "cell_type": "code",
   "execution_count": 20,
   "metadata": {},
   "outputs": [
    {
     "data": {
      "text/plain": [
       "Pipeline(steps=[('columntransformer',\n",
       "                 ColumnTransformer(remainder='passthrough',\n",
       "                                   transformers=[('onehotencoder',\n",
       "                                                  OneHotEncoder(categories=[array(['Birds', 'Black-tailed deer', 'Buffaloes', 'Cattle', 'Chicken',\n",
       "       'Deer', 'Dog', 'Dogs', 'Donkey', 'Duck', 'Elephant', 'Elk', 'Fowl',\n",
       "       'Fox', 'Fox ', 'Goat', 'Goats', 'Hamster', 'Horse', 'Hyaenas',\n",
       "       'Lion', 'Monkey', 'Moos', 'Mule deer',...\n",
       "       'loss of\\xa0wariness', 'recumbency', 'restless movement',\n",
       "       'slow growth', 'sudden death', 'swollen abdomen', 'trembling',\n",
       "       'twisted neck', 'urination problem', 'weakness',\n",
       "       '\\xa0increased passing gas', '\\xa0pain and bloating'], dtype=object)],\n",
       "                                                                handle_unknown='ignore'),\n",
       "                                                  ['AnimalName', 'symptoms1',\n",
       "                                                   'symptoms2', 'symptoms3',\n",
       "                                                   'symptoms4',\n",
       "                                                   'symptoms5'])])),\n",
       "                ('randomforestclassifier', RandomForestClassifier())])"
      ]
     },
     "execution_count": 20,
     "metadata": {},
     "output_type": "execute_result"
    }
   ],
   "source": [
    "pipe=make_pipeline(a,model)\n",
    "pipe"
   ]
  },
  {
   "cell_type": "code",
   "execution_count": 21,
   "metadata": {},
   "outputs": [
    {
     "data": {
      "text/plain": [
       "Pipeline(steps=[('columntransformer',\n",
       "                 ColumnTransformer(remainder='passthrough',\n",
       "                                   transformers=[('onehotencoder',\n",
       "                                                  OneHotEncoder(categories=[array(['Birds', 'Black-tailed deer', 'Buffaloes', 'Cattle', 'Chicken',\n",
       "       'Deer', 'Dog', 'Dogs', 'Donkey', 'Duck', 'Elephant', 'Elk', 'Fowl',\n",
       "       'Fox', 'Fox ', 'Goat', 'Goats', 'Hamster', 'Horse', 'Hyaenas',\n",
       "       'Lion', 'Monkey', 'Moos', 'Mule deer',...\n",
       "       'loss of\\xa0wariness', 'recumbency', 'restless movement',\n",
       "       'slow growth', 'sudden death', 'swollen abdomen', 'trembling',\n",
       "       'twisted neck', 'urination problem', 'weakness',\n",
       "       '\\xa0increased passing gas', '\\xa0pain and bloating'], dtype=object)],\n",
       "                                                                handle_unknown='ignore'),\n",
       "                                                  ['AnimalName', 'symptoms1',\n",
       "                                                   'symptoms2', 'symptoms3',\n",
       "                                                   'symptoms4',\n",
       "                                                   'symptoms5'])])),\n",
       "                ('randomforestclassifier', RandomForestClassifier())])"
      ]
     },
     "execution_count": 21,
     "metadata": {},
     "output_type": "execute_result"
    }
   ],
   "source": [
    "pipe.fit(x_train,y_train)"
   ]
  },
  {
   "cell_type": "code",
   "execution_count": 22,
   "metadata": {},
   "outputs": [
    {
     "data": {
      "text/plain": [
       "array(['Cobalt Defiency', 'Black Leg', 'campylobacterosis',\n",
       "       'Salmonellosis', 'Canine Influenza', 'Feline herpesvirus',\n",
       "       'myxomatosis', 'cerebellar hypoplasia', 'Clostridial Disease',\n",
       "       'CWD', 'Ring worm', 'Anemia', 'Canine Influenza', 'Foot Abscess',\n",
       "       'Canine Influenza', 'Feather Plucking', 'Polioencephalomalacia',\n",
       "       'Clostridial Disease', 'Deformed lambs', 'giardiasis',\n",
       "       'verminosis', 'Salmonella', 'Scrotal hernia', 'Tuberculosis',\n",
       "       'Hypothermia', 'Chronic Wasting', 'Lyme', 'Canine Influenza',\n",
       "       'Haemonchosis', 'Fungal infection', 'Black Leg',\n",
       "       'Ovine Progressive Pneumonia', 'Whooping cough', 'Soremouth',\n",
       "       'Bone caner', 'Epistaxis', 'Contagious Bovin', 'anthrax',\n",
       "       'Stomach Worms', 'Coccoidiosis', 'Infectious canine hepatitis',\n",
       "       'Gastritis', 'CWD', 'Foot Abscess', 'Mycoplasma Synoviac',\n",
       "       'gastrointestinal disorders', 'Hemangiosarcoma',\n",
       "       'Bovine tuberculosis', 'Fatty Liver', 'Diphtherictic', 'Zoonosis',\n",
       "       'Blastomyces', 'Sheath', 'Toxoplasma gondii', 'Acidosis',\n",
       "       'Kennel cough', 'Ovine Progressive Pneumonia', 'anthrax',\n",
       "       'Encephalitis', 'Rhinitis', 'Avian Bornavirus', 'Toxoplasmosis',\n",
       "       'Epistaxis', 'Fungal infection', 'Copper Defiency', \"Marek's\",\n",
       "       'White muscle', 'leptospirosis', 'Rocky mountain spotted fever',\n",
       "       'Bloat', 'HeartWorm', 'haemorrhagic septicaemia',\n",
       "       'Histoplasmosis ', 'Coccidiosis', 'Lice',\n",
       "       'Upper respiratory infection', 'anthrax', 'tuberculosis',\n",
       "       'Influenza A and B', 'CWD', 'Anthrax', 'Trachiobronchial', 'Tick',\n",
       "       'Haemorrhagic Septicemia', 'Ear mites', 'tetanus', 'Ticks',\n",
       "       'Histoplasmosis'], dtype=object)"
      ]
     },
     "execution_count": 22,
     "metadata": {},
     "output_type": "execute_result"
    }
   ],
   "source": [
    "pipe.predict(x_test)"
   ]
  },
  {
   "cell_type": "markdown",
   "metadata": {},
   "source": [
    "Check Accuracy "
   ]
  },
  {
   "cell_type": "code",
   "execution_count": 23,
   "metadata": {},
   "outputs": [
    {
     "data": {
      "text/plain": [
       "0.8068181818181818"
      ]
     },
     "execution_count": 23,
     "metadata": {},
     "output_type": "execute_result"
    }
   ],
   "source": [
    "pipe.score(x_test,y_test)"
   ]
  },
  {
   "cell_type": "code",
   "execution_count": 24,
   "metadata": {},
   "outputs": [
    {
     "data": {
      "text/plain": [
       "0.9833971902937421"
      ]
     },
     "execution_count": 24,
     "metadata": {},
     "output_type": "execute_result"
    }
   ],
   "source": [
    "pipe.score(x_train,y_train)"
   ]
  },
  {
   "cell_type": "code",
   "execution_count": 28,
   "metadata": {},
   "outputs": [],
   "source": [
    "import pickle"
   ]
  },
  {
   "cell_type": "markdown",
   "metadata": {},
   "source": [
    "Pickle Creation"
   ]
  },
  {
   "cell_type": "code",
   "execution_count": 29,
   "metadata": {},
   "outputs": [],
   "source": [
    "pickle.dump(pipe,open('Random1.pkl','wb'))"
   ]
  },
  {
   "cell_type": "code",
   "execution_count": 30,
   "metadata": {},
   "outputs": [
    {
     "data": {
      "text/plain": [
       "array(['Histoplasmosis'], dtype=object)"
      ]
     },
     "execution_count": 30,
     "metadata": {},
     "output_type": "execute_result"
    }
   ],
   "source": [
    "pipe.predict(pd.DataFrame([['Snake','Fever','Difficulty breathing','Poor Appetite','Eye and Skin change','Unable to exercise']],columns=['AnimalName','symptoms1','symptoms2','symptoms3','symptoms4','symptoms5']))"
   ]
  },
  {
   "cell_type": "code",
   "execution_count": null,
   "metadata": {},
   "outputs": [],
   "source": []
  }
 ],
 "metadata": {
  "kernelspec": {
   "display_name": "Python 3",
   "language": "python",
   "name": "python3"
  },
  "language_info": {
   "codemirror_mode": {
    "name": "ipython",
    "version": 3
   },
   "file_extension": ".py",
   "mimetype": "text/x-python",
   "name": "python",
   "nbconvert_exporter": "python",
   "pygments_lexer": "ipython3",
   "version": "3.8.5"
  }
 },
 "nbformat": 4,
 "nbformat_minor": 4
}
